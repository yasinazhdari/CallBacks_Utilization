{
  "cells": [
    {
      "cell_type": "markdown",
      "metadata": {
        "id": "view-in-github",
        "colab_type": "text"
      },
      "source": [
        "<a href=\"https://colab.research.google.com/github/yasinazhdari/CallBacks_Utilization/blob/main/Finding_Best_Learning_Rate_on_Hoda_Dataset_Keras_Yasin_Azhdari_Colab_1_01.ipynb\" target=\"_parent\"><img src=\"https://colab.research.google.com/assets/colab-badge.svg\" alt=\"Open In Colab\"/></a>"
      ]
    },
    {
      "cell_type": "code",
      "execution_count": null,
      "metadata": {
        "id": "-tBMwAMfTXUV",
        "outputId": "5e5714ac-b4e2-40b6-a320-b926f0d1b232",
        "colab": {
          "base_uri": "https://localhost:8080/"
        }
      },
      "outputs": [
        {
          "output_type": "stream",
          "name": "stdout",
          "text": [
            "--2022-06-28 05:17:34--  https://raw.githubusercontent.com/Alireza-Akhavan/tf2-tutorial/master/callbacks/learningratefinder.py\n",
            "Resolving raw.githubusercontent.com (raw.githubusercontent.com)... 185.199.108.133, 185.199.109.133, 185.199.110.133, ...\n",
            "Connecting to raw.githubusercontent.com (raw.githubusercontent.com)|185.199.108.133|:443... connected.\n",
            "HTTP request sent, awaiting response... 200 OK\n",
            "Length: 5439 (5.3K) [text/plain]\n",
            "Saving to: ‘learningratefinder.py’\n",
            "\n",
            "\rlearningratefinder.   0%[                    ]       0  --.-KB/s               \rlearningratefinder. 100%[===================>]   5.31K  --.-KB/s    in 0s      \n",
            "\n",
            "2022-06-28 05:17:34 (59.3 MB/s) - ‘learningratefinder.py’ saved [5439/5439]\n",
            "\n",
            "--2022-06-28 05:17:34--  https://raw.githubusercontent.com/Alireza-Akhavan/SRU-deeplearning-workshop/master/dataset.py\n",
            "Resolving raw.githubusercontent.com (raw.githubusercontent.com)... 185.199.108.133, 185.199.109.133, 185.199.110.133, ...\n",
            "Connecting to raw.githubusercontent.com (raw.githubusercontent.com)|185.199.108.133|:443... connected.\n",
            "HTTP request sent, awaiting response... 200 OK\n",
            "Length: 917 [text/plain]\n",
            "Saving to: ‘dataset.py’\n",
            "\n",
            "dataset.py          100%[===================>]     917  --.-KB/s    in 0s      \n",
            "\n",
            "2022-06-28 05:17:34 (63.4 MB/s) - ‘dataset.py’ saved [917/917]\n",
            "\n",
            "--2022-06-28 05:17:34--  https://github.com/Alireza-Akhavan/SRU-deeplearning-workshop/raw/master/dataset/Data_hoda_full.mat\n",
            "Resolving github.com (github.com)... 140.82.121.4\n",
            "Connecting to github.com (github.com)|140.82.121.4|:443... connected.\n",
            "HTTP request sent, awaiting response... 301 Moved Permanently\n",
            "Location: https://github.com/Alireza-Akhavan/deeplearning-tensorflow2-notebooks/raw/master/dataset/Data_hoda_full.mat [following]\n",
            "--2022-06-28 05:17:35--  https://github.com/Alireza-Akhavan/deeplearning-tensorflow2-notebooks/raw/master/dataset/Data_hoda_full.mat\n",
            "Reusing existing connection to github.com:443.\n",
            "HTTP request sent, awaiting response... 302 Found\n",
            "Location: https://raw.githubusercontent.com/Alireza-Akhavan/deeplearning-tensorflow2-notebooks/master/dataset/Data_hoda_full.mat [following]\n",
            "--2022-06-28 05:17:35--  https://raw.githubusercontent.com/Alireza-Akhavan/deeplearning-tensorflow2-notebooks/master/dataset/Data_hoda_full.mat\n",
            "Resolving raw.githubusercontent.com (raw.githubusercontent.com)... 185.199.108.133, 185.199.109.133, 185.199.110.133, ...\n",
            "Connecting to raw.githubusercontent.com (raw.githubusercontent.com)|185.199.108.133|:443... connected.\n",
            "HTTP request sent, awaiting response... 200 OK\n",
            "Length: 3989009 (3.8M) [application/octet-stream]\n",
            "Saving to: ‘dataset/Data_hoda_full.mat’\n",
            "\n",
            "Data_hoda_full.mat  100%[===================>]   3.80M  --.-KB/s    in 0.03s   \n",
            "\n",
            "2022-06-28 05:17:36 (149 MB/s) - ‘dataset/Data_hoda_full.mat’ saved [3989009/3989009]\n",
            "\n"
          ]
        }
      ],
      "source": [
        "# Downloading the Dataset and corresponding utilization code, along with\n",
        "# learningratefinder with the following line of commands.\n",
        "!wget https://raw.githubusercontent.com/Alireza-Akhavan/tf2-tutorial/master/callbacks/learningratefinder.py\n",
        "!wget https://raw.githubusercontent.com/Alireza-Akhavan/SRU-deeplearning-workshop/master/dataset.py\n",
        "!mkdir dataset\n",
        "!wget https://github.com/Alireza-Akhavan/SRU-deeplearning-workshop/raw/master/dataset/Data_hoda_full.mat -P dataset"
      ]
    },
    {
      "cell_type": "code",
      "source": [
        "from learningratefinder import LearningRateFinder"
      ],
      "metadata": {
        "id": "6rlR-sO8vvIl"
      },
      "execution_count": null,
      "outputs": []
    },
    {
      "cell_type": "code",
      "execution_count": null,
      "metadata": {
        "id": "BRdGzCCYTXUj",
        "outputId": "4d9d599c-6fa7-4bff-a948-f0b5c4828519",
        "colab": {
          "base_uri": "https://localhost:8080/",
          "height": 977
        }
      },
      "outputs": [
        {
          "output_type": "stream",
          "name": "stdout",
          "text": [
            "Epoch 1/19\n"
          ]
        },
        {
          "output_type": "stream",
          "name": "stderr",
          "text": [
            "/usr/local/lib/python3.7/dist-packages/keras/optimizer_v2/gradient_descent.py:102: UserWarning: The `lr` argument is deprecated, use `learning_rate` instead.\n",
            "  super(SGD, self).__init__(name, **kwargs)\n"
          ]
        },
        {
          "output_type": "stream",
          "name": "stdout",
          "text": [
            "110/110 [==============================] - 12s 6ms/step - loss: 2.3008 - accuracy: 0.1049\n",
            "Epoch 2/19\n",
            "110/110 [==============================] - 0s 4ms/step - loss: 2.2953 - accuracy: 0.1080\n",
            "Epoch 3/19\n",
            "110/110 [==============================] - 0s 4ms/step - loss: 2.3003 - accuracy: 0.1034\n",
            "Epoch 4/19\n",
            "110/110 [==============================] - 0s 4ms/step - loss: 2.3002 - accuracy: 0.1009\n",
            "Epoch 5/19\n",
            "110/110 [==============================] - 0s 4ms/step - loss: 2.2982 - accuracy: 0.1026\n",
            "Epoch 6/19\n",
            "110/110 [==============================] - 0s 4ms/step - loss: 2.2983 - accuracy: 0.1083\n",
            "Epoch 7/19\n",
            "110/110 [==============================] - 0s 5ms/step - loss: 2.2967 - accuracy: 0.1123\n",
            "Epoch 8/19\n",
            "110/110 [==============================] - 0s 4ms/step - loss: 2.2955 - accuracy: 0.1123\n",
            "Epoch 9/19\n",
            "110/110 [==============================] - 0s 4ms/step - loss: 2.2945 - accuracy: 0.1126\n",
            "Epoch 10/19\n",
            "110/110 [==============================] - 0s 4ms/step - loss: 2.2944 - accuracy: 0.1071\n",
            "Epoch 11/19\n",
            "110/110 [==============================] - 0s 5ms/step - loss: 2.2880 - accuracy: 0.1237\n",
            "Epoch 12/19\n",
            "110/110 [==============================] - 1s 5ms/step - loss: 2.2536 - accuracy: 0.1891\n",
            "Epoch 13/19\n",
            "110/110 [==============================] - 0s 4ms/step - loss: 1.9340 - accuracy: 0.3546\n",
            "Epoch 14/19\n",
            "110/110 [==============================] - 0s 4ms/step - loss: 1.0148 - accuracy: 0.6454\n",
            "Epoch 15/19\n",
            "110/110 [==============================] - 0s 5ms/step - loss: 0.6594 - accuracy: 0.7717\n",
            "Epoch 16/19\n",
            "110/110 [==============================] - 0s 4ms/step - loss: 0.9209 - accuracy: 0.7269\n",
            "Epoch 17/19\n",
            "110/110 [==============================] - 0s 4ms/step - loss: 2.3307 - accuracy: 0.0991\n",
            "Epoch 18/19\n",
            "110/110 [==============================] - 0s 4ms/step - loss: 2.3997 - accuracy: 0.1009\n",
            "Epoch 19/19\n",
            "110/110 [==============================] - 0s 4ms/step - loss: 2.6388 - accuracy: 0.0994\n"
          ]
        },
        {
          "output_type": "display_data",
          "data": {
            "text/plain": [
              "<Figure size 432x288 with 1 Axes>"
            ],
            "image/png": "[encoded data removed]"
          },
          "metadata": {
            "needs_background": "light"
          }
        }
      ],
      "source": [
        "# Import libraries                       and modules\n",
        "from tensorflow import keras\n",
        "from keras import layers\n",
        "from keras.models import Sequential\n",
        "from keras.layers import Dense, Dropout, Activation\n",
        "import numpy as np\n",
        "from dataset import load_hoda\n",
        "import matplotlib.pyplot as plt\n",
        "\n",
        "\n",
        "np.random.seed(123)              # for reproducibility\n",
        "\n",
        "# Load pre-shuffled HODA data into train and test sets\n",
        "x_train_original, y_train_original, x_test_original, y_test_original = load_hoda(\n",
        "                                                                        training_sample_size   =3500,\n",
        "                                                                        test_sample_size=400,size=28)\n",
        "\n",
        "# Preprocess input data\n",
        "\n",
        "x_train = np.array(x_train_original)\n",
        "x_test  = np.array( x_test_original)\n",
        "\n",
        "x_train = x_train.astype('float32')\n",
        "x_test   = x_test.astype('float32')\n",
        "x_train /= 255\n",
        "x_test  /= 255\n",
        "\n",
        "# Reshape to original image shape (n x 784)  ==> (n x 28 x 28 x 1)\n",
        "x_train = x_train.reshape(-1,28,28,1)\n",
        "x_test  =  x_test.reshape(-1,28,28,1)\n",
        "\n",
        "\n",
        "#  Preprocess class labels\n",
        "y_train = keras.utils.to_categorical(y_train_original, num_classes=10)\n",
        "y_test  = keras.utils.to_categorical(y_test_original , num_classes=10)\n",
        "\n",
        "\n",
        "# test and validation set\n",
        "x_val  = x_test[:200]\n",
        "x_test = x_test[200:]\n",
        "y_val  = y_test[:200]\n",
        "y_test = y_test[200:]\n",
        "\n",
        "# Define model architecture\n",
        "model = Sequential()\n",
        "model.add(layers.Conv2D(32, (3, 3), activation='relu',\n",
        "                        input_shape=(28, 28, 1)))\n",
        "model.add(layers.MaxPooling2D((2, 2)))\n",
        "model.add(layers.Conv2D(64, (3, 3), activation='relu'))\n",
        "model.add(layers.MaxPooling2D((2, 2)))\n",
        "model.add(layers.Conv2D(64, (3, 3), activation='relu'))\n",
        "model.add(layers.Flatten())\n",
        "model.add(layers.Dense(64, activation='relu'))\n",
        "model.add(Dropout(0.5))\n",
        "model.add(layers.Dense(10, activation='softmax'))\n",
        "\n",
        "MIN_LR = 1e-10\n",
        "opt = keras.optimizers.SGD(lr=MIN_LR, momentum=0.9)\n",
        "\n",
        "#  Compile model\n",
        "model.compile(loss='categorical_crossentropy',optimizer=opt,metrics=['accuracy'])\n",
        "\n",
        "# initialize the learning rate finder and then train with learning\n",
        "# rates ranging from 1e-10 to 1e+1\n",
        "lrf = LearningRateFinder(model)\n",
        "lrf.find((x_train, y_train),1e-10, 1e+1)\n",
        "# plot the loss for the various learning rates and save the resulting plot to disk\n",
        "lrf.plot_loss()"
      ]
    },
    {
      "cell_type": "code",
      "source": [
        "np.min(lrf.losses)"
      ],
      "metadata": {
        "colab": {
          "base_uri": "https://localhost:8080/"
        },
        "id": "yIGA00Yl0CPL",
        "outputId": "a017bf02-1494-4aaa-b1ff-e52b1d87fcad"
      },
      "execution_count": null,
      "outputs": [
        {
          "output_type": "execute_result",
          "data": {
            "text/plain": [
              "0.6321045476502113"
            ]
          },
          "metadata": {},
          "execution_count": 8
        }
      ]
    }
  ],
  "metadata": {
    "anaconda-cloud": {},
    "kernelspec": {
      "display_name": "tensorflow",
      "language": "python",
      "name": "tensorflow"
    },
    "language_info": {
      "codemirror_mode": {
        "name": "ipython",
        "version": 3
      },
      "file_extension": ".py",
      "mimetype": "text/x-python",
      "name": "python",
      "nbconvert_exporter": "python",
      "pygments_lexer": "ipython3",
      "version": "3.6.8"
    },
    "nbpresent": {
      "slides": {
        "300ee14f-a043-486e-b274-7ff253907cd7": {
          "id": "300ee14f-a043-486e-b274-7ff253907cd7",
          "prev": "cb74e0bc-4513-4d13-b7f1-14c3078a7927",
          "regions": {
            "26dc3f39-a230-447c-af4c-f5e5b2fb7835": {
              "attrs": {
                "height": 0.8,
                "width": 0.8,
                "x": 0.1,
                "y": 0.1
              },
              "content": {
                "cell": "c58440a5-3f8f-4f37-9c79-6bf766209406",
                "part": "whole"
              },
              "id": "26dc3f39-a230-447c-af4c-f5e5b2fb7835"
            }
          }
        },
        "878aa53a-1444-4100-8f50-7a408191c579": {
          "id": "878aa53a-1444-4100-8f50-7a408191c579",
          "prev": null,
          "regions": {
            "a6c6843a-5ea6-4fbc-b890-3b4b8ae475b3": {
              "attrs": {
                "height": 0.8,
                "width": 0.8,
                "x": 0.1,
                "y": 0.1
              },
              "content": {
                "cell": "588ee1fa-64b5-453b-ade7-8e6b2515821c",
                "part": "whole"
              },
              "id": "a6c6843a-5ea6-4fbc-b890-3b4b8ae475b3"
            }
          }
        },
        "96ffe88e-7b50-43de-afdd-942e564f4e3e": {
          "id": "96ffe88e-7b50-43de-afdd-942e564f4e3e",
          "prev": "878aa53a-1444-4100-8f50-7a408191c579",
          "regions": {
            "b7e52e12-489a-468d-b10c-af2024fd2856": {
              "attrs": {
                "height": 0.8,
                "width": 0.8,
                "x": 0.1,
                "y": 0.1
              },
              "content": {
                "cell": "de829a92-1fb6-44ad-a2c6-fc1001e1f6e1",
                "part": "whole"
              },
              "id": "b7e52e12-489a-468d-b10c-af2024fd2856"
            }
          }
        },
        "cb74e0bc-4513-4d13-b7f1-14c3078a7927": {
          "id": "cb74e0bc-4513-4d13-b7f1-14c3078a7927",
          "prev": "96ffe88e-7b50-43de-afdd-942e564f4e3e",
          "regions": {
            "444878ee-68f3-4abb-acff-a7079b21e86d": {
              "attrs": {
                "height": 0.8,
                "width": 0.8,
                "x": 0.1,
                "y": 0.1
              },
              "content": {
                "cell": "25f3f538-1ee8-4d98-a6bb-14cbeb7a702d",
                "part": "whole"
              },
              "id": "444878ee-68f3-4abb-acff-a7079b21e86d"
            }
          }
        }
      },
      "themes": {}
    },
    "colab": {
      "name": "Finding Best Learning Rate-on-Hoda-Dataset-Keras-Yasin Azhdari-Colab-1.01.ipynb",
      "provenance": [],
      "collapsed_sections": [],
      "include_colab_link": true
    },
    "accelerator": "GPU",
    "gpuClass": "standard"
  },
  "nbformat": 4,
  "nbformat_minor": 0
}